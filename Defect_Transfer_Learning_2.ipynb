{
  "nbformat": 4,
  "nbformat_minor": 0,
  "metadata": {
    "colab": {
      "provenance": [],
      "gpuType": "T4"
    },
    "kernelspec": {
      "name": "python3",
      "display_name": "Python 3"
    },
    "language_info": {
      "name": "python"
    },
    "accelerator": "GPU"
  },
  "cells": [
    {
      "cell_type": "markdown",
      "source": [
        "# 1. 데이터 준비하기"
      ],
      "metadata": {
        "id": "qJCAbR4NkAFx"
      }
    },
    {
      "cell_type": "code",
      "source": [
        "import zipfile\n",
        "import os\n",
        "\n",
        "def unzip_file(zip_file_path, extract_to_dir):\n",
        "    with zipfile.ZipFile(zip_file_path, 'r') as zip_ref:\n",
        "        zip_ref.extractall(extract_to_dir)\n",
        "        print(f\"Extracted all files to {extract_to_dir}\")\n",
        "\n",
        "# Example usage\n",
        "zip_file_path = './casting_defect.zip'\n",
        "extract_to_dir = './'\n",
        "\n",
        "# Ensure the extraction directory exists\n",
        "os.makedirs(extract_to_dir, exist_ok=True)\n",
        "\n",
        "unzip_file(zip_file_path, extract_to_dir)"
      ],
      "metadata": {
        "colab": {
          "base_uri": "https://localhost:8080/"
        },
        "id": "cutOVgASkCmy",
        "outputId": "4f1f7bdc-6305-4dc3-af92-73e1ea29be18"
      },
      "execution_count": 4,
      "outputs": [
        {
          "output_type": "stream",
          "name": "stdout",
          "text": [
            "Extracted all files to ./\n"
          ]
        }
      ]
    },
    {
      "cell_type": "code",
      "source": [
        "import numpy as np\n",
        "import time\n",
        "\n",
        "import PIL.Image as Image\n",
        "import matplotlib.pylab as plt\n",
        "\n",
        "import tensorflow as tf\n",
        "import tensorflow_hub as hub\n",
        "\n",
        "import datetime"
      ],
      "metadata": {
        "id": "_HDDbuXswe0w"
      },
      "execution_count": 13,
      "outputs": []
    },
    {
      "cell_type": "code",
      "source": [
        "batch_size = 32\n",
        "img_height = 224\n",
        "img_width = 224\n",
        "\n",
        "train_ds = tf.keras.utils.image_dataset_from_directory(\n",
        "  \"./casting_defect/\",\n",
        "  validation_split=0.2,\n",
        "  subset=\"training\",\n",
        "  seed=123,\n",
        "  image_size=(img_height, img_width),\n",
        "  batch_size=batch_size\n",
        ")\n",
        "\n",
        "val_ds = tf.keras.utils.image_dataset_from_directory(\n",
        "  \"./casting_defect/\",\n",
        "  validation_split=0.2,\n",
        "  subset=\"validation\",\n",
        "  seed=123,\n",
        "  image_size=(img_height, img_width),\n",
        "  batch_size=batch_size\n",
        ")"
      ],
      "metadata": {
        "colab": {
          "base_uri": "https://localhost:8080/"
        },
        "id": "LoXLN2ybyhsy",
        "outputId": "b0a4491f-541b-49a2-f3cd-64c3a37527e4"
      },
      "execution_count": 16,
      "outputs": [
        {
          "output_type": "stream",
          "name": "stdout",
          "text": [
            "Found 1300 files belonging to 2 classes.\n",
            "Using 1040 files for training.\n",
            "Found 1300 files belonging to 2 classes.\n",
            "Using 260 files for validation.\n"
          ]
        }
      ]
    },
    {
      "cell_type": "code",
      "source": [
        "feature_extractor_model = \"https://tfhub.dev/google/tf2-preview/mobilenet_v2/feature_vector/4\"\n",
        "\n",
        "\n",
        "feature_extractor_layer = hub.KerasLayer(\n",
        "    feature_extractor_model,\n",
        "    input_shape=(224, 224, 3),\n",
        "    trainable=False)\n",
        "\n",
        "model = tf.keras.Sequential([\n",
        "  feature_extractor_layer,\n",
        "  tf.keras.layers.Dense(1, activation='sigmoid')\n",
        "])\n",
        "\n",
        "model.summary()"
      ],
      "metadata": {
        "colab": {
          "base_uri": "https://localhost:8080/"
        },
        "id": "mUs7hkdwxJMM",
        "outputId": "9e56c0a9-b9d6-4277-d298-14bf177c034d"
      },
      "execution_count": 15,
      "outputs": [
        {
          "output_type": "stream",
          "name": "stdout",
          "text": [
            "Model: \"sequential\"\n",
            "_________________________________________________________________\n",
            " Layer (type)                Output Shape              Param #   \n",
            "=================================================================\n",
            " keras_layer_1 (KerasLayer)  (None, 1280)              2257984   \n",
            "                                                                 \n",
            " dense (Dense)               (None, 1)                 1281      \n",
            "                                                                 \n",
            "=================================================================\n",
            "Total params: 2259265 (8.62 MB)\n",
            "Trainable params: 1281 (5.00 KB)\n",
            "Non-trainable params: 2257984 (8.61 MB)\n",
            "_________________________________________________________________\n"
          ]
        }
      ]
    },
    {
      "cell_type": "code",
      "source": [
        "model.compile(\n",
        "  optimizer=tf.keras.optimizers.Adam(),\n",
        "  loss='binary_crossentropy',\n",
        "  metrics=['acc'])"
      ],
      "metadata": {
        "id": "6SLz-CsMyIP7"
      },
      "execution_count": 17,
      "outputs": []
    },
    {
      "cell_type": "code",
      "source": [
        "NUM_EPOCHS = 30\n",
        "\n",
        "history = model.fit(train_ds,\n",
        "                    validation_data=val_ds,\n",
        "                    epochs=NUM_EPOCHS)"
      ],
      "metadata": {
        "colab": {
          "base_uri": "https://localhost:8080/"
        },
        "id": "KV0rdTzQyIKU",
        "outputId": "8fc34b96-fba1-402f-d110-afcce9b52035"
      },
      "execution_count": null,
      "outputs": [
        {
          "output_type": "stream",
          "name": "stdout",
          "text": [
            "Epoch 1/30\n",
            "33/33 [==============================] - 3s 73ms/step - loss: 0.4911 - acc: 0.7615 - val_loss: 0.4488 - val_acc: 0.8115\n",
            "Epoch 2/30\n",
            "33/33 [==============================] - 3s 73ms/step - loss: 0.4806 - acc: 0.7827 - val_loss: 0.4622 - val_acc: 0.8077\n",
            "Epoch 3/30\n",
            "33/33 [==============================] - 4s 109ms/step - loss: 0.4698 - acc: 0.7779 - val_loss: 0.4546 - val_acc: 0.8115\n",
            "Epoch 4/30\n",
            "33/33 [==============================] - 3s 73ms/step - loss: 0.4697 - acc: 0.7913 - val_loss: 0.4423 - val_acc: 0.8231\n",
            "Epoch 5/30\n",
            "33/33 [==============================] - 3s 72ms/step - loss: 0.4570 - acc: 0.7769 - val_loss: 0.4378 - val_acc: 0.8231\n",
            "Epoch 6/30\n",
            "32/33 [============================>.] - ETA: 0s - loss: 0.4556 - acc: 0.8027"
          ]
        }
      ]
    }
  ]
}