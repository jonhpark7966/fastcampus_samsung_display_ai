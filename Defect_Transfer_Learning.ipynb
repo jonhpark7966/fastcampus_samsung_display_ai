{
  "nbformat": 4,
  "nbformat_minor": 0,
  "metadata": {
    "colab": {
      "provenance": [],
      "gpuType": "T4"
    },
    "kernelspec": {
      "name": "python3",
      "display_name": "Python 3"
    },
    "language_info": {
      "name": "python"
    },
    "accelerator": "GPU"
  },
  "cells": [
    {
      "cell_type": "markdown",
      "source": [
        "# 1. 데이터 준비하기"
      ],
      "metadata": {
        "id": "qJCAbR4NkAFx"
      }
    },
    {
      "cell_type": "code",
      "source": [
        "import zipfile\n",
        "import os\n",
        "\n",
        "def unzip_file(zip_file_path, extract_to_dir):\n",
        "    with zipfile.ZipFile(zip_file_path, 'r') as zip_ref:\n",
        "        zip_ref.extractall(extract_to_dir)\n",
        "        print(f\"Extracted all files to {extract_to_dir}\")\n",
        "\n",
        "# Example usage\n",
        "zip_file_path = './casting_defect.zip'\n",
        "extract_to_dir = './'\n",
        "\n",
        "# Ensure the extraction directory exists\n",
        "os.makedirs(extract_to_dir, exist_ok=True)\n",
        "\n",
        "unzip_file(zip_file_path, extract_to_dir)"
      ],
      "metadata": {
        "colab": {
          "base_uri": "https://localhost:8080/"
        },
        "id": "cutOVgASkCmy",
        "outputId": "4f1f7bdc-6305-4dc3-af92-73e1ea29be18"
      },
      "execution_count": 4,
      "outputs": [
        {
          "output_type": "stream",
          "name": "stdout",
          "text": [
            "Extracted all files to ./\n"
          ]
        }
      ]
    },
    {
      "cell_type": "code",
      "source": [
        "import itertools\n",
        "import os\n",
        "\n",
        "import matplotlib.pylab as plt\n",
        "import numpy as np\n",
        "\n",
        "import tensorflow as tf\n",
        "import tensorflow_hub as hub\n",
        "\n",
        "import tf_keras as keras\n",
        "\n",
        "data_dir = \"./casting_defect\"\n",
        "\n",
        "def build_dataset(subset):\n",
        "    datagen = tf.keras.preprocessing.image.ImageDataGenerator(\n",
        "            rescale=1./255,\n",
        "            validation_split=0.20\n",
        "    )\n",
        "\n",
        "    # Generate batches of image data and labels\n",
        "    return datagen.flow_from_directory(\n",
        "        directory=data_dir,\n",
        "        target_size=(224,224),\n",
        "        batch_size=32,\n",
        "        class_mode='binary',\n",
        "        subset=subset,  # Specify 'training' or 'validation' subset\n",
        "        seed=123  # Seed for reproducibility\n",
        "    )\n",
        "\n",
        "# Build training and validation datasets\n",
        "train_ds = build_dataset(\"training\")\n",
        "val_ds = build_dataset(\"validation\")\n",
        "\n",
        "# Capture class names from the directory structure\n",
        "class_names = train_ds.class_indices\n",
        "\n",
        "# Retrieve dataset sizes\n",
        "train_size = train_ds.samples\n",
        "valid_size = val_ds.samples"
      ],
      "metadata": {
        "colab": {
          "base_uri": "https://localhost:8080/"
        },
        "id": "FLBi-llCkCuj",
        "outputId": "0d9c0a4d-1931-4498-a0bf-f86d6f32b665"
      },
      "execution_count": 6,
      "outputs": [
        {
          "output_type": "stream",
          "name": "stdout",
          "text": [
            "Found 1041 images belonging to 2 classes.\n",
            "Found 259 images belonging to 2 classes.\n"
          ]
        }
      ]
    },
    {
      "cell_type": "markdown",
      "source": [
        "# 2. 모델 정의하기"
      ],
      "metadata": {
        "id": "bl6y_1zDkC-v"
      }
    },
    {
      "cell_type": "code",
      "source": [
        "model_handle = \"https://tfhub.dev/google/imagenet/mobilenet_v2_100_224/feature_vector/4\"\n",
        "print(\"Building model with\", model_handle)\n",
        "model = keras.Sequential([\n",
        "    # Explicitly define the input shape so the model can be properly\n",
        "    # loaded by the TFLiteConverter\n",
        "    keras.layers.InputLayer(input_shape= (224,224,3)),\n",
        "    hub.KerasLayer(model_handle, trainable=False),\n",
        "    keras.layers.Dropout(rate=0.2),\n",
        "    keras.layers.Dense(1, activation='sigmoid')\n",
        "])\n",
        "model.build((None,224,224,3))\n",
        "model.summary()"
      ],
      "metadata": {
        "colab": {
          "base_uri": "https://localhost:8080/"
        },
        "id": "GNci_klCkFrY",
        "outputId": "0cd36a70-91f6-4641-d347-4b44ddc4cc03"
      },
      "execution_count": 7,
      "outputs": [
        {
          "output_type": "stream",
          "name": "stdout",
          "text": [
            "Building model with https://tfhub.dev/google/imagenet/mobilenet_v2_100_224/feature_vector/4\n",
            "Model: \"sequential\"\n",
            "_________________________________________________________________\n",
            " Layer (type)                Output Shape              Param #   \n",
            "=================================================================\n",
            " module_wrapper (ModuleWrap  (None, 1280)              2257984   \n",
            " per)                                                            \n",
            "                                                                 \n",
            " dropout (Dropout)           (None, 1280)              0         \n",
            "                                                                 \n",
            " dense (Dense)               (None, 1)                 1281      \n",
            "                                                                 \n",
            "=================================================================\n",
            "Total params: 2259265 (8.62 MB)\n",
            "Trainable params: 1281 (5.00 KB)\n",
            "Non-trainable params: 2257984 (8.61 MB)\n",
            "_________________________________________________________________\n"
          ]
        }
      ]
    },
    {
      "cell_type": "code",
      "source": [],
      "metadata": {
        "id": "xaxlM3aSkFty"
      },
      "execution_count": null,
      "outputs": []
    },
    {
      "cell_type": "code",
      "source": [],
      "metadata": {
        "id": "DhL2rB1LkF52"
      },
      "execution_count": null,
      "outputs": []
    },
    {
      "cell_type": "markdown",
      "source": [
        "# 3. 학습 & 검증 하기"
      ],
      "metadata": {
        "id": "tXNIcUi8kF_K"
      }
    },
    {
      "cell_type": "code",
      "source": [
        "model.compile(\n",
        "  optimizer='adam',\n",
        "  loss='binary_crossentropy',\n",
        "  metrics=['accuracy'])"
      ],
      "metadata": {
        "id": "m2fchyugkJD0"
      },
      "execution_count": 8,
      "outputs": []
    },
    {
      "cell_type": "code",
      "source": [
        "steps_per_epoch = train_size // 32\n",
        "validation_steps = valid_size // 32\n",
        "hist = model.fit(\n",
        "    train_ds,\n",
        "    epochs=10, steps_per_epoch=steps_per_epoch,\n",
        "    validation_data=val_ds,\n",
        "    validation_steps=validation_steps).history"
      ],
      "metadata": {
        "colab": {
          "base_uri": "https://localhost:8080/"
        },
        "id": "ySxTWUz_kJF6",
        "outputId": "5f3af784-8a51-446f-8d05-72cd87329d4e"
      },
      "execution_count": 12,
      "outputs": [
        {
          "output_type": "stream",
          "name": "stdout",
          "text": [
            "Epoch 1/10\n",
            "32/32 [==============================] - 3s 103ms/step - loss: 0.1413 - accuracy: 0.9554 - val_loss: 0.1379 - val_accuracy: 0.9648\n",
            "Epoch 2/10\n",
            "32/32 [==============================] - 4s 115ms/step - loss: 0.1349 - accuracy: 0.9633 - val_loss: 0.1565 - val_accuracy: 0.9383\n",
            "Epoch 3/10\n",
            "32/32 [==============================] - 3s 110ms/step - loss: 0.1312 - accuracy: 0.9633 - val_loss: 0.1450 - val_accuracy: 0.9648\n",
            "Epoch 4/10\n",
            "32/32 [==============================] - 4s 119ms/step - loss: 0.1337 - accuracy: 0.9584 - val_loss: 0.1464 - val_accuracy: 0.9427\n",
            "Epoch 5/10\n",
            "32/32 [==============================] - 3s 83ms/step - loss: 0.1373 - accuracy: 0.9514 - val_loss: 0.1435 - val_accuracy: 0.9559\n",
            "Epoch 6/10\n",
            "32/32 [==============================] - 3s 98ms/step - loss: 0.1229 - accuracy: 0.9643 - val_loss: 0.1328 - val_accuracy: 0.9471\n",
            "Epoch 7/10\n",
            "32/32 [==============================] - 3s 81ms/step - loss: 0.1232 - accuracy: 0.9717 - val_loss: 0.1442 - val_accuracy: 0.9515\n",
            "Epoch 8/10\n",
            "32/32 [==============================] - 4s 119ms/step - loss: 0.1265 - accuracy: 0.9574 - val_loss: 0.1400 - val_accuracy: 0.9515\n",
            "Epoch 9/10\n",
            "32/32 [==============================] - 3s 101ms/step - loss: 0.1218 - accuracy: 0.9653 - val_loss: 0.1102 - val_accuracy: 0.9692\n",
            "Epoch 10/10\n",
            "32/32 [==============================] - 2s 79ms/step - loss: 0.1166 - accuracy: 0.9693 - val_loss: 0.1300 - val_accuracy: 0.9515\n"
          ]
        }
      ]
    },
    {
      "cell_type": "code",
      "source": [],
      "metadata": {
        "id": "3A3sbjEVkJLu"
      },
      "execution_count": null,
      "outputs": []
    }
  ]
}